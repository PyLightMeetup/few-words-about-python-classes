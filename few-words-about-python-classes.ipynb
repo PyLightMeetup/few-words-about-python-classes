{
 "cells": [
  {
   "cell_type": "markdown",
   "metadata": {},
   "source": [
    "## Few words about Python classes\n",
    "\n"
   ]
  },
  {
   "cell_type": "markdown",
   "metadata": {},
   "source": [
    "### Who am I ? \n",
    "\n",
    "Piotr Grzesik\n",
    "- pj.grzesik@gmail.com\n",
    "- @p_grzesik\n",
    "- Pragmatic Coders - http://pragmaticcoders.com/\n",
    "- Pykonik - https://www.meetup.com/Pykonik/"
   ]
  },
  {
   "cell_type": "markdown",
   "metadata": {},
   "source": [
    "### Introduction to classes\n",
    "\n",
    "Python has great built-in data structures, like dictionaries, lists, sets and tuples, however sometimes it's hard to represent problem that we're trying to solve with only those basic structures and that's when classes come in.\n",
    "\n",
    "So what are they ? \n",
    "\n",
    "Classes can be defined as logical bundling of data and functionality together. What that means is that classes can consist of any data and methods, however very often we want those data and methods to be connected with each other, e.g. it's common to create classes to represent real-world concepts, like `ShoppingCart`, `Customer` or `Address`, or to represent parts of our application e.g. `HTTPClient`. Thanks to classes, we can much easier write code that is structured, modular and easier to comprehend.\n",
    "\n",
    "We can also think of classes as blueprints or factories that are used to create specific objects.  "
   ]
  },
  {
   "cell_type": "markdown",
   "metadata": {},
   "source": [
    "### Let's create our own class!\n",
    "\n",
    "In our example, we will try to model Animals, so let's create a class that will represent Animal."
   ]
  },
  {
   "cell_type": "code",
   "execution_count": 28,
   "metadata": {},
   "outputs": [],
   "source": [
    "class Animal:\n",
    "    pass"
   ]
  },
  {
   "cell_type": "markdown",
   "metadata": {},
   "source": [
    "As we can see in the example above, we use `class` keyword to define new classes. \n",
    "\n",
    "Right now we only have a blueprint for Animals - how can we use it and turn it into actual `Animal` objects ? "
   ]
  },
  {
   "cell_type": "code",
   "execution_count": 29,
   "metadata": {},
   "outputs": [
    {
     "data": {
      "text/plain": [
       "__main__.Animal"
      ]
     },
     "execution_count": 29,
     "metadata": {},
     "output_type": "execute_result"
    }
   ],
   "source": [
    "animal_instance = Animal()\n",
    "\n",
    "type(animal_instance)"
   ]
  },
  {
   "cell_type": "markdown",
   "metadata": {},
   "source": [
    "Hooray! We created an instance of our `Animal` class. So what's the difference between class and instance ? \n",
    "Class defines *how* something is structured and instance is a concrete object with that structure. I like to compare class to a baking recipe and instance of that class to a baked cake. "
   ]
  },
  {
   "cell_type": "markdown",
   "metadata": {},
   "source": [
    "### Adding data to our class"
   ]
  },
  {
   "cell_type": "markdown",
   "metadata": {},
   "source": [
    "Right now our class isn't really useful, so let's extend it with some data!"
   ]
  },
  {
   "cell_type": "code",
   "execution_count": 30,
   "metadata": {},
   "outputs": [],
   "source": [
    "class Animal:\n",
    "    def __init__(self, name, age):\n",
    "        self.name = name\n",
    "        self.age = age"
   ]
  },
  {
   "cell_type": "markdown",
   "metadata": {},
   "source": [
    "Our class is now a bit more advanced and is able to store information about the animal's name, age and number of legs. But what's this `__init__` function and `self` argument? \n",
    "\n",
    "`__init__` is a *magic* method (method is a function that is a part of a class), that's called during creation of a new instance and it's responsible for initialization of our class instance. It also recieves `self` argument, that is the created instance of our class. It's important to remember that `__init__` doesn't create new instances, but only does attributes initialization. \n",
    "\n",
    "Now that we know a little bit more about `__init__` and `self`, let's try to create an instance of our class!"
   ]
  },
  {
   "cell_type": "code",
   "execution_count": 31,
   "metadata": {},
   "outputs": [],
   "source": [
    "my_animal = Animal(name='Kitty', age=2)"
   ]
  },
  {
   "cell_type": "markdown",
   "metadata": {},
   "source": [
    "We can start using our instance and access it's attributes by using dot notation, e.g.:"
   ]
  },
  {
   "cell_type": "code",
   "execution_count": 32,
   "metadata": {},
   "outputs": [
    {
     "data": {
      "text/plain": [
       "'Kitty'"
      ]
     },
     "execution_count": 32,
     "metadata": {},
     "output_type": "execute_result"
    }
   ],
   "source": [
    "my_animal.name"
   ]
  },
  {
   "cell_type": "code",
   "execution_count": 33,
   "metadata": {},
   "outputs": [
    {
     "data": {
      "text/plain": [
       "2"
      ]
     },
     "execution_count": 33,
     "metadata": {},
     "output_type": "execute_result"
    }
   ],
   "source": [
    "my_animal.age"
   ]
  },
  {
   "cell_type": "markdown",
   "metadata": {},
   "source": [
    "What will happen if we try to access non-existent attribute?"
   ]
  },
  {
   "cell_type": "code",
   "execution_count": 34,
   "metadata": {},
   "outputs": [
    {
     "ename": "AttributeError",
     "evalue": "'Animal' object has no attribute 'nonexistent'",
     "output_type": "error",
     "traceback": [
      "\u001b[0;31m---------------------------------------------------------------------------\u001b[0m",
      "\u001b[0;31mAttributeError\u001b[0m                            Traceback (most recent call last)",
      "\u001b[0;32m<ipython-input-34-f796a5795a54>\u001b[0m in \u001b[0;36m<module>\u001b[0;34m()\u001b[0m\n\u001b[0;32m----> 1\u001b[0;31m \u001b[0mmy_animal\u001b[0m\u001b[0;34m.\u001b[0m\u001b[0mnonexistent\u001b[0m\u001b[0;34m\u001b[0m\u001b[0m\n\u001b[0m",
      "\u001b[0;31mAttributeError\u001b[0m: 'Animal' object has no attribute 'nonexistent'"
     ]
    }
   ],
   "source": [
    "my_animal.nonexistent"
   ]
  },
  {
   "cell_type": "markdown",
   "metadata": {},
   "source": [
    "Whoops, we got an AttributeError! If we're not sure if an object has a given attribute, we can use `getattr`."
   ]
  },
  {
   "cell_type": "code",
   "execution_count": 35,
   "metadata": {},
   "outputs": [
    {
     "data": {
      "text/plain": [
       "'nope'"
      ]
     },
     "execution_count": 35,
     "metadata": {},
     "output_type": "execute_result"
    }
   ],
   "source": [
    "getattr(my_animal, 'nonexistent', 'nope')"
   ]
  },
  {
   "cell_type": "code",
   "execution_count": 36,
   "metadata": {},
   "outputs": [
    {
     "data": {
      "text/plain": [
       "'Kitty'"
      ]
     },
     "execution_count": 36,
     "metadata": {},
     "output_type": "execute_result"
    }
   ],
   "source": [
    "getattr(my_animal, 'name', 'nope')"
   ]
  },
  {
   "cell_type": "markdown",
   "metadata": {},
   "source": [
    "As we can see above, `getattr` will retrieve an attribute if it exists, or return the default value (in this case `'nope'`) otherwise."
   ]
  },
  {
   "cell_type": "markdown",
   "metadata": {},
   "source": [
    "### Extending our class with methods"
   ]
  },
  {
   "cell_type": "markdown",
   "metadata": {},
   "source": [
    "While our current implementation of `Animal` is useful, we could achieve similar results with `namedtuple` or `dict`. Since classes can couple data with functionality, let's add some functionality to our class!"
   ]
  },
  {
   "cell_type": "code",
   "execution_count": 37,
   "metadata": {},
   "outputs": [],
   "source": [
    "class Animal:\n",
    "    def __init__(self, name, age):\n",
    "        self.name = name\n",
    "        self.age = age\n",
    "        \n",
    "    def say_hello(self):\n",
    "        print(f'Animal named {self.name} says hello!')"
   ]
  },
  {
   "cell_type": "markdown",
   "metadata": {},
   "source": [
    "We added a method `say_hello`, that prints a string constructed from `name` attribute of our class. Similarily to `__init__`, first parameter to `say_hello` methods is the instance itself. \n",
    "\n",
    "We can use our newly created method in the following way:"
   ]
  },
  {
   "cell_type": "code",
   "execution_count": 38,
   "metadata": {},
   "outputs": [
    {
     "name": "stdout",
     "output_type": "stream",
     "text": [
      "Animal named kitty says hello!\n"
     ]
    }
   ],
   "source": [
    "my_animal = Animal('Kitty', 2)\n",
    "\n",
    "my_animal.say_hello()"
   ]
  },
  {
   "cell_type": "markdown",
   "metadata": {},
   "source": [
    "### Inheritance and subclasses"
   ]
  },
  {
   "cell_type": "markdown",
   "metadata": {},
   "source": [
    "In the previous sections, we learned how we can create classes with data and methods, however sometimes we want to make our classes more specific. For example, our `Animal` class is quite generic, what if we would like to create classes that could represent `Dog`s and `Cat`s and some other animals, but we want all of them to have `name`, `age` and ability to `say_hello` ? Inheritance to the rescue!\n",
    "\n",
    "Inheritance allows us to create *child* classes that derive funcionality and data from *parent* classes. In our case, `Cat` class would be a child class, deriving from `Animal` parent class.\n",
    "\n",
    "In the simplest way, we could create our child class in the following way:"
   ]
  },
  {
   "cell_type": "code",
   "execution_count": 41,
   "metadata": {},
   "outputs": [
    {
     "data": {
      "text/plain": [
       "'Kitty'"
      ]
     },
     "execution_count": 41,
     "metadata": {},
     "output_type": "execute_result"
    }
   ],
   "source": [
    "class Cat(Animal):\n",
    "    pass\n",
    "\n",
    "my_cat = Cat(name='Kitty', age=3)\n",
    "my_cat.name"
   ]
  },
  {
   "cell_type": "code",
   "execution_count": null,
   "metadata": {},
   "outputs": [],
   "source": []
  },
  {
   "cell_type": "markdown",
   "metadata": {},
   "source": [
    "### Using super"
   ]
  },
  {
   "cell_type": "markdown",
   "metadata": {},
   "source": [
    "### Method resolution order"
   ]
  },
  {
   "cell_type": "markdown",
   "metadata": {},
   "source": [
    "### Summary"
   ]
  }
 ],
 "metadata": {
  "kernelspec": {
   "display_name": "Python 3",
   "language": "python",
   "name": "python3"
  },
  "language_info": {
   "codemirror_mode": {
    "name": "ipython",
    "version": 3
   },
   "file_extension": ".py",
   "mimetype": "text/x-python",
   "name": "python",
   "nbconvert_exporter": "python",
   "pygments_lexer": "ipython3",
   "version": "3.6.2"
  }
 },
 "nbformat": 4,
 "nbformat_minor": 2
}
