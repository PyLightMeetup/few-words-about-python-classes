{
 "cells": [
  {
   "cell_type": "markdown",
   "metadata": {},
   "source": [
    "## Few words about Python classes\n",
    "\n"
   ]
  },
  {
   "cell_type": "markdown",
   "metadata": {},
   "source": [
    "### Who am I ? \n",
    "\n",
    "Piotr Grzesik\n",
    "- pj.grzesik@gmail.com\n",
    "- @p_grzesik\n",
    "- Pragmatic Coders - http://pragmaticcoders.com/\n",
    "- Pykonik - https://www.meetup.com/Pykonik/"
   ]
  },
  {
   "cell_type": "markdown",
   "metadata": {},
   "source": [
    "### Introduction to classes\n",
    "\n",
    "Python has great built-in data structures, like dictionaries, lists, sets and tuples, however sometimes it's hard to represent problem that we're trying to solve with only those basic structures - that's when classes come in.\n",
    "\n",
    "So what are they ? \n",
    "\n",
    "Classes can be defined as logical bundling of data and functionality together. What that means is that classes can consist of any data and methods, however very often we want those data and methods to be connected with each other, e.g. it's common to create classes to represent real-world concepts, like `ShoppingCart`, `Customer` or `Address`, or to represent parts of our application e.g. `HTTPClient`. Thanks to classes, we can much more easily write code that is structured, modular and easier to comprehend.\n",
    "\n",
    "We can also think of classes as blueprints or factories that are used to create specific objects.  "
   ]
  },
  {
   "cell_type": "markdown",
   "metadata": {},
   "source": [
    "### Let's create our own class!\n",
    "\n",
    "In our example, we will try to model Animals, so let's create a class that will represent Animal."
   ]
  },
  {
   "cell_type": "code",
   "execution_count": 2,
   "metadata": {},
   "outputs": [],
   "source": [
    "class Animal:\n",
    "    pass"
   ]
  },
  {
   "cell_type": "markdown",
   "metadata": {},
   "source": [
    "As we can see in the example above, we use `class` keyword to define new classes. \n",
    "\n",
    "Right now we only have a blueprint for Animals - how can we use it and turn it into actual `Animal` objects ? "
   ]
  },
  {
   "cell_type": "code",
   "execution_count": 3,
   "metadata": {},
   "outputs": [
    {
     "data": {
      "text/plain": [
       "__main__.Animal"
      ]
     },
     "execution_count": 3,
     "metadata": {},
     "output_type": "execute_result"
    }
   ],
   "source": [
    "animal_instance = Animal()\n",
    "\n",
    "type(animal_instance)"
   ]
  },
  {
   "cell_type": "markdown",
   "metadata": {},
   "source": [
    "Hooray! We created an instance of our `Animal` class. So what's the difference between class and instance ? \n",
    "Class defines *how* something is structured and instance is a concrete object with that structure. I like to compare class to a baking recipe and instance of that class to a baked cake. "
   ]
  },
  {
   "cell_type": "markdown",
   "metadata": {},
   "source": [
    "### Adding data to our class"
   ]
  },
  {
   "cell_type": "markdown",
   "metadata": {},
   "source": [
    "Right now our class isn't really useful, so let's extend it with some data!"
   ]
  },
  {
   "cell_type": "code",
   "execution_count": 4,
   "metadata": {},
   "outputs": [],
   "source": [
    "class Animal:\n",
    "    def __init__(self, name, age):\n",
    "        self.name = name\n",
    "        self.age = age"
   ]
  },
  {
   "cell_type": "markdown",
   "metadata": {},
   "source": [
    "Our class is now a bit more advanced and is able to store information about the animal's name, age and number of legs. But what's this `__init__` function and `self` argument? \n",
    "\n",
    "`__init__` is a *magic* method (method is a function that is a part of a class), that's called during creation of a new instance and it's responsible for initialization of our class instance. It also recieves `self` argument, that is the created instance of our class. It's important to remember that `__init__` doesn't create new instances, but only does attributes initialization. \n",
    "\n",
    "Now that we know a little bit more about `__init__` and `self`, let's try to create an instance of our class!"
   ]
  },
  {
   "cell_type": "code",
   "execution_count": 5,
   "metadata": {},
   "outputs": [],
   "source": [
    "my_animal = Animal(name='Kitty', age=2)"
   ]
  },
  {
   "cell_type": "markdown",
   "metadata": {},
   "source": [
    "We can start using our instance and access it's attributes by using dot notation, e.g.:"
   ]
  },
  {
   "cell_type": "code",
   "execution_count": 6,
   "metadata": {},
   "outputs": [
    {
     "data": {
      "text/plain": [
       "'Kitty'"
      ]
     },
     "execution_count": 6,
     "metadata": {},
     "output_type": "execute_result"
    }
   ],
   "source": [
    "my_animal.name"
   ]
  },
  {
   "cell_type": "code",
   "execution_count": 7,
   "metadata": {},
   "outputs": [
    {
     "data": {
      "text/plain": [
       "2"
      ]
     },
     "execution_count": 7,
     "metadata": {},
     "output_type": "execute_result"
    }
   ],
   "source": [
    "my_animal.age"
   ]
  },
  {
   "cell_type": "markdown",
   "metadata": {},
   "source": [
    "What will happen if we try to access non-existent attribute?"
   ]
  },
  {
   "cell_type": "code",
   "execution_count": 8,
   "metadata": {},
   "outputs": [
    {
     "ename": "AttributeError",
     "evalue": "'Animal' object has no attribute 'nonexistent'",
     "output_type": "error",
     "traceback": [
      "\u001b[0;31m---------------------------------------------------------------------------\u001b[0m",
      "\u001b[0;31mAttributeError\u001b[0m                            Traceback (most recent call last)",
      "\u001b[0;32m<ipython-input-8-f796a5795a54>\u001b[0m in \u001b[0;36m<module>\u001b[0;34m()\u001b[0m\n\u001b[0;32m----> 1\u001b[0;31m \u001b[0mmy_animal\u001b[0m\u001b[0;34m.\u001b[0m\u001b[0mnonexistent\u001b[0m\u001b[0;34m\u001b[0m\u001b[0m\n\u001b[0m",
      "\u001b[0;31mAttributeError\u001b[0m: 'Animal' object has no attribute 'nonexistent'"
     ]
    }
   ],
   "source": [
    "my_animal.nonexistent"
   ]
  },
  {
   "cell_type": "markdown",
   "metadata": {},
   "source": [
    "Whoops, we got an AttributeError! If we're not sure if an object has a given attribute, we can use `getattr`."
   ]
  },
  {
   "cell_type": "code",
   "execution_count": 9,
   "metadata": {},
   "outputs": [
    {
     "data": {
      "text/plain": [
       "'nope'"
      ]
     },
     "execution_count": 9,
     "metadata": {},
     "output_type": "execute_result"
    }
   ],
   "source": [
    "getattr(my_animal, 'nonexistent', 'nope')"
   ]
  },
  {
   "cell_type": "code",
   "execution_count": 10,
   "metadata": {},
   "outputs": [
    {
     "data": {
      "text/plain": [
       "'Kitty'"
      ]
     },
     "execution_count": 10,
     "metadata": {},
     "output_type": "execute_result"
    }
   ],
   "source": [
    "getattr(my_animal, 'name', 'nope')"
   ]
  },
  {
   "cell_type": "markdown",
   "metadata": {},
   "source": [
    "As we can see above, `getattr` will retrieve an attribute if it exists, or return the default value (in this case `'nope'`) otherwise."
   ]
  },
  {
   "cell_type": "markdown",
   "metadata": {},
   "source": [
    "### Extending our class with methods"
   ]
  },
  {
   "cell_type": "markdown",
   "metadata": {},
   "source": [
    "While our current implementation of `Animal` is useful, we could achieve similar results with `namedtuple` or `dict`. Since classes can couple data with functionality, let's add some functionality to our class!"
   ]
  },
  {
   "cell_type": "code",
   "execution_count": 11,
   "metadata": {},
   "outputs": [],
   "source": [
    "class Animal:\n",
    "    def __init__(self, name, age):\n",
    "        self.name = name\n",
    "        self.age = age\n",
    "        \n",
    "    def say_hello(self):\n",
    "        print(f'Animal named {self.name} says hello!')"
   ]
  },
  {
   "cell_type": "markdown",
   "metadata": {},
   "source": [
    "We added a method `say_hello`, that prints a string constructed from `name` attribute of our class. Similarily to `__init__`, first parameter to `say_hello` methods is the instance itself. \n",
    "\n",
    "We can use our newly created method in the following way:"
   ]
  },
  {
   "cell_type": "code",
   "execution_count": 12,
   "metadata": {},
   "outputs": [
    {
     "name": "stdout",
     "output_type": "stream",
     "text": [
      "Animal named Kitty says hello!\n"
     ]
    }
   ],
   "source": [
    "my_animal = Animal('Kitty', 2)\n",
    "\n",
    "my_animal.say_hello()"
   ]
  },
  {
   "cell_type": "markdown",
   "metadata": {},
   "source": [
    "### Inheritance and subclasses"
   ]
  },
  {
   "cell_type": "markdown",
   "metadata": {},
   "source": [
    "In the previous sections, we learned how we can create classes with data and methods, however sometimes we want to make our classes more specific. For example, our `Animal` class is quite generic, what if we would like to create classes that could represent `Dog`s and `Cat`s and some other animals, but we want all of them to have `name`, `age` and ability to `say_hello` ? Inheritance to the rescue!\n",
    "\n",
    "Inheritance allows us to create *child* classes that derive funcionality and data from *parent* classes. In our case, `Cat` class would be a child class, deriving from `Animal` parent class.\n",
    "\n",
    "In the simplest way, we could create our child class in the following way:"
   ]
  },
  {
   "cell_type": "code",
   "execution_count": 13,
   "metadata": {},
   "outputs": [
    {
     "data": {
      "text/plain": [
       "'Kitty'"
      ]
     },
     "execution_count": 13,
     "metadata": {},
     "output_type": "execute_result"
    }
   ],
   "source": [
    "class Cat(Animal):\n",
    "    pass\n",
    "\n",
    "my_cat = Cat(name='Kitty', age=3)\n",
    "my_cat.name"
   ]
  },
  {
   "cell_type": "markdown",
   "metadata": {},
   "source": [
    "As we can see, by just subclassing `Animal`, our newly created `Cat` class has identical functionality as `Animal` class. However what is really important about inheritance, it's the fact that it allows us to extend base classes with new functionality. \n",
    "\n",
    "Let's try this and add method `meow` to our `Cat` class!"
   ]
  },
  {
   "cell_type": "code",
   "execution_count": 14,
   "metadata": {},
   "outputs": [
    {
     "name": "stdout",
     "output_type": "stream",
     "text": [
      "Kitty says meow!\n",
      "Animal named Kitty says hello!\n"
     ]
    }
   ],
   "source": [
    "class Cat(Animal):\n",
    "    def meow(self):\n",
    "        print(f'{self.name} says meow!')\n",
    "        \n",
    "my_cat = Cat(name='Kitty', age=2)\n",
    "my_cat.meow()\n",
    "my_cat.say_hello()"
   ]
  },
  {
   "cell_type": "markdown",
   "metadata": {},
   "source": [
    "Now we have access to new `meow` method, while still being able to call `say_hello` method inherited from `Animal` class. That's what makes inheritance a really powerful mechanism."
   ]
  },
  {
   "cell_type": "markdown",
   "metadata": {},
   "source": [
    "### Overriding methods"
   ]
  },
  {
   "cell_type": "markdown",
   "metadata": {},
   "source": [
    "But what if we wanted to redefine our `say_hello` function from our base class? No problem! \n",
    "\n",
    "Let's redefine our `Cat` class again, this time with new implementation of `say_hello` function."
   ]
  },
  {
   "cell_type": "code",
   "execution_count": 15,
   "metadata": {},
   "outputs": [
    {
     "name": "stdout",
     "output_type": "stream",
     "text": [
      "Cat named Kitty says hello!\n"
     ]
    }
   ],
   "source": [
    "class Cat(Animal):\n",
    "    def say_hello(self):\n",
    "        print(f'Cat named {self.name} says hello!')\n",
    "\n",
    "my_cat = Cat('Kitty', 2)\n",
    "my_cat.say_hello()"
   ]
  },
  {
   "cell_type": "markdown",
   "metadata": {},
   "source": [
    "As we can see, we were able to change implementation of `say_hello` method inherited from base class. This allows us to write code that follows *Liskov Substitution Principle* which says that whenever a parent class is expected, we can also use child classes. For example, if we have a function that calls `say_hello` method on `Animal` instance, we should be able to provide `Cat` instance and everything should work fine as well.\n",
    "\n",
    "Let's try!"
   ]
  },
  {
   "cell_type": "code",
   "execution_count": 16,
   "metadata": {},
   "outputs": [
    {
     "name": "stdout",
     "output_type": "stream",
     "text": [
      "Animal named Doggo says hello!\n",
      "Cat named Kitty says hello!\n"
     ]
    }
   ],
   "source": [
    "def hello_there(animal):\n",
    "    animal.say_hello()\n",
    "\n",
    "my_animal = Animal(name='Doggo', age=2)\n",
    "my_cat = Cat(name='Kitty', age=3)\n",
    "\n",
    "hello_there(my_animal)\n",
    "hello_there(my_cat)"
   ]
  },
  {
   "cell_type": "markdown",
   "metadata": {},
   "source": [
    "### `super` considered super!"
   ]
  },
  {
   "cell_type": "markdown",
   "metadata": {},
   "source": [
    "Now we know how we can override methods from our base class, but what if, for some reason, we want to reuse previous implementation? We can use `super()` function!\n",
    "\n",
    "Let's try and reimplement `say_hello`, while reusing previous implementation."
   ]
  },
  {
   "cell_type": "code",
   "execution_count": 17,
   "metadata": {},
   "outputs": [
    {
     "name": "stdout",
     "output_type": "stream",
     "text": [
      "Animal named Kitty says hello!\n",
      "Meow!\n"
     ]
    }
   ],
   "source": [
    "class Cat(Animal):\n",
    "    def say_hello(self):\n",
    "        super().say_hello()\n",
    "        print('Meow!')\n",
    "\n",
    "my_cat = Cat(name='Kitty', age=2)\n",
    "my_cat.say_hello()"
   ]
  },
  {
   "cell_type": "markdown",
   "metadata": {},
   "source": [
    "As we can see above, we were able to reuse base implementation of `say_hello` method, and add some additional behavior to it, specific to `Cat` class.\n",
    "\n",
    "Common use case for `super` is to extend `__init__` constructor of our classes. \n",
    "\n",
    "Let's try and add a `breed` attribute in our `Cat` class."
   ]
  },
  {
   "cell_type": "code",
   "execution_count": 18,
   "metadata": {},
   "outputs": [
    {
     "data": {
      "text/plain": [
       "'British'"
      ]
     },
     "execution_count": 18,
     "metadata": {},
     "output_type": "execute_result"
    }
   ],
   "source": [
    "class Cat(Animal):\n",
    "    def __init__(self, name, age, breed):\n",
    "        super().__init__(name, age)\n",
    "        self.breed = breed\n",
    "\n",
    "my_cat = Cat(name='Kitty', age=2, breed='British')    \n",
    "my_cat.breed"
   ]
  },
  {
   "cell_type": "markdown",
   "metadata": {},
   "source": [
    "But do we still have access to name and age ?"
   ]
  },
  {
   "cell_type": "code",
   "execution_count": 19,
   "metadata": {},
   "outputs": [
    {
     "data": {
      "text/plain": [
       "'Kitty'"
      ]
     },
     "execution_count": 19,
     "metadata": {},
     "output_type": "execute_result"
    }
   ],
   "source": [
    "my_cat.name"
   ]
  },
  {
   "cell_type": "code",
   "execution_count": 20,
   "metadata": {},
   "outputs": [
    {
     "data": {
      "text/plain": [
       "2"
      ]
     },
     "execution_count": 20,
     "metadata": {},
     "output_type": "execute_result"
    }
   ],
   "source": [
    "my_cat.age"
   ]
  },
  {
   "cell_type": "markdown",
   "metadata": {},
   "source": [
    "### Class attributes"
   ]
  },
  {
   "cell_type": "markdown",
   "metadata": {},
   "source": [
    "TODO"
   ]
  },
  {
   "cell_type": "markdown",
   "metadata": {},
   "source": [
    "### Classmethods and staticmethods"
   ]
  },
  {
   "cell_type": "markdown",
   "metadata": {},
   "source": [
    "In addition to 'regular' methods, class can have `classmethod`s and `staticmethods`. We can declare them by using, respectively, `@classmethod` and `@staticmethod` decorators. \n",
    "\n",
    "So, what's the difference between them and 'regular' methods ?\n",
    "\n",
    "Classmethods can be called not only on instances, but on the classes itself. Instead of receiving instance as first argument (`self`), they always receive class as first argument, by convention called `cls`. They can be used e.g. for providing different ways of creating instance objects. \n",
    "\n",
    "Let's try to implement a classmethod that will be responsible for creating `Animal` instances from provided dictionary."
   ]
  },
  {
   "cell_type": "code",
   "execution_count": 22,
   "metadata": {},
   "outputs": [
    {
     "data": {
      "text/plain": [
       "'Kitty'"
      ]
     },
     "execution_count": 22,
     "metadata": {},
     "output_type": "execute_result"
    }
   ],
   "source": [
    "class Animal:\n",
    "    def __init__(self, name, age):\n",
    "        self.name = name\n",
    "        self.age = age\n",
    "    \n",
    "    @classmethod\n",
    "    def from_dict(cls, params):\n",
    "        return cls(params['name'], params['age'])\n",
    "        \n",
    "my_animal = Animal.from_dict({\n",
    "    'name': 'Kitty',\n",
    "    'age': 2\n",
    "})\n",
    "my_animal.name"
   ]
  },
  {
   "cell_type": "markdown",
   "metadata": {},
   "source": [
    "Static methods are a bit different, since they do not receive any implicit arguments. They can be called both on classes and instances. In Python, static methods aren't a really popular concept, since they're not much different from regular functions in modules, however they can be useful for grouping certain functionalities in a class.\n",
    "\n",
    "Let's add a static method to our `Animal` class."
   ]
  },
  {
   "cell_type": "code",
   "execution_count": 25,
   "metadata": {},
   "outputs": [
    {
     "name": "stdout",
     "output_type": "stream",
     "text": [
      "Hello from static method!\n"
     ]
    }
   ],
   "source": [
    "class Animal:\n",
    "    def __init__(self, name, age):\n",
    "        self.name = name\n",
    "        self.age = age\n",
    "    \n",
    "    @staticmethod\n",
    "    def hello():\n",
    "        print('Hello from static method!')\n",
    "\n",
    "Animal.hello()"
   ]
  },
  {
   "cell_type": "markdown",
   "metadata": {},
   "source": [
    "As we can see, there's no need for instantiating a class to call classmethods and staticmethods."
   ]
  },
  {
   "cell_type": "markdown",
   "metadata": {},
   "source": [
    "### A little twist!"
   ]
  },
  {
   "cell_type": "markdown",
   "metadata": {},
   "source": [
    "You might be wondering - what will happen if I try to call 'regular' method on class instead of instance? "
   ]
  },
  {
   "cell_type": "code",
   "execution_count": 26,
   "metadata": {},
   "outputs": [
    {
     "ename": "TypeError",
     "evalue": "say_hello() missing 1 required positional argument: 'self'",
     "output_type": "error",
     "traceback": [
      "\u001b[0;31m---------------------------------------------------------------------------\u001b[0m",
      "\u001b[0;31mTypeError\u001b[0m                                 Traceback (most recent call last)",
      "\u001b[0;32m<ipython-input-26-d1202eedad9a>\u001b[0m in \u001b[0;36m<module>\u001b[0;34m()\u001b[0m\n\u001b[1;32m      7\u001b[0m         \u001b[0mprint\u001b[0m\u001b[0;34m(\u001b[0m\u001b[0;34mf'Animal named {self.name} says hello!'\u001b[0m\u001b[0;34m)\u001b[0m\u001b[0;34m\u001b[0m\u001b[0m\n\u001b[1;32m      8\u001b[0m \u001b[0;34m\u001b[0m\u001b[0m\n\u001b[0;32m----> 9\u001b[0;31m \u001b[0mAnimal\u001b[0m\u001b[0;34m.\u001b[0m\u001b[0msay_hello\u001b[0m\u001b[0;34m(\u001b[0m\u001b[0;34m)\u001b[0m\u001b[0;34m\u001b[0m\u001b[0m\n\u001b[0m",
      "\u001b[0;31mTypeError\u001b[0m: say_hello() missing 1 required positional argument: 'self'"
     ]
    }
   ],
   "source": [
    "class Animal:\n",
    "    def __init__(self, name, age):\n",
    "        self.name = name\n",
    "        self.age = age\n",
    "        \n",
    "    def say_hello(self):\n",
    "        print(f'Animal named {self.name} says hello!')\n",
    "        \n",
    "Animal.say_hello()"
   ]
  },
  {
   "cell_type": "markdown",
   "metadata": {},
   "source": [
    "Whoops, an error! But we know that `self` is the instance object, so why don't we try and pass one there?"
   ]
  },
  {
   "cell_type": "code",
   "execution_count": 27,
   "metadata": {},
   "outputs": [
    {
     "name": "stdout",
     "output_type": "stream",
     "text": [
      "Animal named Kitty says hello!\n"
     ]
    }
   ],
   "source": [
    "my_animal = Animal(name='Kitty', age=2)\n",
    "\n",
    "Animal.say_hello(my_animal)"
   ]
  },
  {
   "cell_type": "markdown",
   "metadata": {},
   "source": [
    "We got it working! While it's not really useful in solving real life problems, it shows us a little bit more how Python helps us by implicitly passing instances as `self` argument."
   ]
  },
  {
   "cell_type": "markdown",
   "metadata": {},
   "source": [
    "### Summary"
   ]
  },
  {
   "cell_type": "markdown",
   "metadata": {},
   "source": [
    "TODO"
   ]
  }
 ],
 "metadata": {
  "kernelspec": {
   "display_name": "Python 3",
   "language": "python",
   "name": "python3"
  },
  "language_info": {
   "codemirror_mode": {
    "name": "ipython",
    "version": 3
   },
   "file_extension": ".py",
   "mimetype": "text/x-python",
   "name": "python",
   "nbconvert_exporter": "python",
   "pygments_lexer": "ipython3",
   "version": "3.6.2"
  }
 },
 "nbformat": 4,
 "nbformat_minor": 2
}
